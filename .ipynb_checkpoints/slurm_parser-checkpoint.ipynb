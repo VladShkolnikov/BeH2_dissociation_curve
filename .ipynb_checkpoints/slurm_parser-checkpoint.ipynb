{
 "cells": [
  {
   "cell_type": "code",
   "execution_count": 7,
   "metadata": {},
   "outputs": [
    {
     "name": "stdout",
     "output_type": "stream",
     "text": [
      "64\n",
      "64\n",
      "36\n",
      "64\n",
      "A\n",
      "A\n",
      "B\n",
      "['IXYI', 'YZII', 'ZXXY', 'IIXY', 'IZYI', 'ZYII']\n",
      "set()\n",
      "['IXYI', 'YZII', 'ZXXY', 'IIXY', 'IZYI', 'ZYII']\n"
     ]
    }
   ],
   "source": [
    "import matplotlib.pyplot as plt\n",
    "import numpy as np\n",
    "import math\n",
    "\n",
    "import pickle5 as pickle\n",
    "\n",
    "iteration=[]\n",
    "errors=[]\n",
    "\n",
    "file = open(\"slurm-147619.out\",'rb').readlines()\n",
    "for line_number in range(len(file)):\n",
    "    line=file[line_number].decode(\"utf-8\")\n",
    "    if len(line)>=45 and line[:45]==\"                         ADAPT-VQE iteration:\":\n",
    "        iteration.append(int(line[47:]))\n",
    "        error_line=file[line_number+4].decode(\"utf-8\")\n",
    "        errors.append(math.log(float(error_line[7:])))\n",
    "\n",
    "\n",
    "        \n",
    "        \n",
    "print(iteration)\n",
    "print(errors)\n",
    "\n",
    "plt.grid(axis='y', alpha=0.75)\n",
    "plt.xlabel('Iteration')\n",
    "plt.ylabel('Error')\n",
    "plt.title('Error vs. iteration')\n",
    "\n",
    "\n",
    "plt.plot(iteration,errors,linestyle='-', marker='.', color='g')\n",
    "plt.grid( linestyle = '-', linewidth = 0.5)\n",
    "plt.savefig('test.pdf')  \n",
    "\n",
    "plt.show()"
   ]
  },
  {
   "cell_type": "code",
   "execution_count": null,
   "metadata": {},
   "outputs": [],
   "source": []
  }
 ],
 "metadata": {
  "kernelspec": {
   "display_name": "Python 3",
   "language": "python",
   "name": "python3"
  },
  "language_info": {
   "codemirror_mode": {
    "name": "ipython",
    "version": 3
   },
   "file_extension": ".py",
   "mimetype": "text/x-python",
   "name": "python",
   "nbconvert_exporter": "python",
   "pygments_lexer": "ipython3",
   "version": "3.7.7"
  }
 },
 "nbformat": 4,
 "nbformat_minor": 4
}
